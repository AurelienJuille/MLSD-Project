{
 "cells": [
  {
   "cell_type": "markdown",
   "metadata": {},
   "source": [
    "Install Dependencies"
   ]
  },
  {
   "cell_type": "code",
   "execution_count": null,
   "metadata": {
    "vscode": {
     "languageId": "shellscript"
    }
   },
   "outputs": [],
   "source": [
    "%pip install -r requirements.txt"
   ]
  },
  {
   "cell_type": "markdown",
   "metadata": {},
   "source": [
    "Import Libraries"
   ]
  },
  {
   "cell_type": "code",
   "execution_count": null,
   "metadata": {},
   "outputs": [],
   "source": [
    "import pandas as pd\n",
    "import matplotlib.pyplot as plt\n",
    "from ydata_profiling import ProfileReport"
   ]
  },
  {
   "cell_type": "markdown",
   "metadata": {},
   "source": [
    "Load Data"
   ]
  },
  {
   "cell_type": "code",
   "execution_count": null,
   "metadata": {},
   "outputs": [],
   "source": [
    "column_names = [\n",
    "    \"matchId\",\n",
    "\n",
    "    \"blueTeamControlWardsPlaced\", \"blueTeamWardsPlaced\", \"blueTeamTotalKills\",\n",
    "    \"blueTeamDragonKills\", \"blueTeamHeraldKills\", \"blueTeamTowersDestroyed\",\n",
    "    \"blueTeamInhibitorsDestroyed\", \"blueTeamTurretPlatesDestroyed\",\n",
    "    \"blueTeamFirstBlood\", \"blueTeamMinionsKilled\", \"blueTeamJungleMinions\",\n",
    "    \"blueTeamTotalGold\", \"blueTeamXp\", \"blueTeamTotalDamageToChamps\",\n",
    "\n",
    "    \"redTeamControlWardsPlaced\", \"redTeamWardsPlaced\", \"redTeamTotalKills\",\n",
    "    \"redTeamDragonKills\", \"redTeamHeraldKills\", \"redTeamTowersDestroyed\",\n",
    "    \"redTeamInhibitorsDestroyed\", \"redTeamTurretPlatesDestroyed\",\n",
    "    \"redTeamMinionsKilled\", \"redTeamJungleMinions\", \"redTeamTotalGold\",\n",
    "    \"redTeamXp\", \"redTeamTotalDamageToChamps\",\n",
    "\n",
    "    \"blueWin\", \"end\"\n",
    "]\n",
    "\n",
    "df = pd.read_csv(\"data/match_data_v5.csv\", names=column_names, header=0, index_col=0)\n",
    "\n",
    "df.head() # Display the first 5 rows of the dataset"
   ]
  },
  {
   "cell_type": "markdown",
   "metadata": {},
   "source": [
    "Explore Basic Feature Attributes"
   ]
  },
  {
   "cell_type": "code",
   "execution_count": null,
   "metadata": {},
   "outputs": [],
   "source": [
    "df.info()"
   ]
  },
  {
   "cell_type": "code",
   "execution_count": null,
   "metadata": {},
   "outputs": [],
   "source": [
    "df.describe()"
   ]
  },
  {
   "cell_type": "markdown",
   "metadata": {},
   "source": [
    "Handle Missing Values and Duplicates"
   ]
  },
  {
   "cell_type": "code",
   "execution_count": null,
   "metadata": {},
   "outputs": [],
   "source": [
    "# Remove last column\n",
    "df = df.drop(columns=[\"end\"])\n",
    "df.head()"
   ]
  },
  {
   "cell_type": "code",
   "execution_count": null,
   "metadata": {},
   "outputs": [],
   "source": [
    "# Handle duplicates\n",
    "df.duplicated().sum()\n",
    "\n",
    "# Check if the matchId is unique\n",
    "df.index.is_unique\n",
    "\n",
    "# Drop duplicates\n",
    "df = df.drop_duplicates()\n",
    "df.duplicated().sum()"
   ]
  },
  {
   "cell_type": "markdown",
   "metadata": {},
   "source": [
    "Explore Data Distribution"
   ]
  },
  {
   "cell_type": "code",
   "execution_count": null,
   "metadata": {},
   "outputs": [],
   "source": [
    "# Check if the dataset is balanced\n",
    "plt.figure(figsize=(6, 2))\n",
    "df['blueWin'].value_counts().plot(kind='bar', color=['red', 'blue'])\n",
    "plt.title('Proportion of Blue Win')\n",
    "plt.xlabel('Blue Win')\n",
    "plt.ylabel('Count')\n",
    "plt.xticks(ticks=[0, 1], labels=['0', '1'])\n",
    "plt.show()"
   ]
  },
  {
   "cell_type": "code",
   "execution_count": null,
   "metadata": {},
   "outputs": [],
   "source": [
    "# Generate report\n",
    "profile = ProfileReport(df, title=\"EDA Report\", explorative=True)\n",
    "profile.to_file(\"eda_report.html\")"
   ]
  },
  {
   "cell_type": "markdown",
   "metadata": {},
   "source": [
    "Handle Outliers"
   ]
  },
  {
   "cell_type": "code",
   "execution_count": null,
   "metadata": {},
   "outputs": [],
   "source": [
    "# Decide whether outliers should be removed\n",
    "plt.figure(figsize=(10, 5))\n",
    "df.boxplot()\n",
    "plt.xticks(rotation=45)\n",
    "plt.show()"
   ]
  },
  {
   "cell_type": "markdown",
   "metadata": {},
   "source": [
    "Create new features"
   ]
  },
  {
   "cell_type": "code",
   "execution_count": null,
   "metadata": {},
   "outputs": [],
   "source": [
    "df['diffMinionsKilled'] = (df['blueTeamMinionsKilled'] - df['redTeamMinionsKilled'])\n",
    "df['diffJungleMinions'] = (df['blueTeamJungleMinions'] - df['redTeamJungleMinions'])\n",
    "df['diffTotalGold'] = (df['blueTeamTotalGold'] - df['redTeamTotalGold'])\n",
    "df['diffTotalKills'] = (df['blueTeamTotalKills'] - df['redTeamTotalKills'])\n",
    "df['diffXp'] = (df['blueTeamXp'] - df['redTeamXp'])\n",
    "df['diffTotalDamageToChamps'] = (df['blueTeamTotalDamageToChamps'] - df['redTeamTotalDamageToChamps'])\n",
    "df['diffDragonKills'] = (df['blueTeamDragonKills'] - df['redTeamDragonKills'])\n",
    "df['diffHeraldKills'] = (df['blueTeamHeraldKills'] - df['redTeamHeraldKills'])\n",
    "df['diffTowersDestroyed'] = (df['blueTeamTowersDestroyed'] - df['redTeamTowersDestroyed'])\n",
    "df['diffInhibitorsDestroyed'] = (df['blueTeamInhibitorsDestroyed'] - df['redTeamInhibitorsDestroyed'])\n",
    "df['diffTurretPlatesDestroyed'] = (df['blueTeamTurretPlatesDestroyed'] - df['redTeamTurretPlatesDestroyed'])\n",
    "\n",
    "df.head()"
   ]
  },
  {
   "cell_type": "markdown",
   "metadata": {},
   "source": [
    "Export processed dataset"
   ]
  },
  {
   "cell_type": "code",
   "execution_count": null,
   "metadata": {},
   "outputs": [],
   "source": [
    "# Export the processed dataset to a CSV file for training in another notebook\n",
    "df.to_csv(\"data/processed_dataset.csv\", index=True)\n",
    "print(\"Dataset exported successfully to 'data/processed_dataset.csv'\")"
   ]
  }
 ],
 "metadata": {
  "kernelspec": {
   "display_name": "stat",
   "language": "python",
   "name": "python3"
  },
  "language_info": {
   "codemirror_mode": {
    "name": "ipython",
    "version": 3
   },
   "file_extension": ".py",
   "mimetype": "text/x-python",
   "name": "python",
   "nbconvert_exporter": "python",
   "pygments_lexer": "ipython3",
   "version": "3.12.0"
  }
 },
 "nbformat": 4,
 "nbformat_minor": 2
}
